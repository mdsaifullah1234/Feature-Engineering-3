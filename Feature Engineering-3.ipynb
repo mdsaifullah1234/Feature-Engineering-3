{
 "cells": [
  {
   "cell_type": "markdown",
   "metadata": {},
   "source": [
    "Q1. What is Min-Max scaling, and how is it used in data preprocessing? Provide an example to illustrate its \n",
    "application"
   ]
  },
  {
   "cell_type": "markdown",
   "metadata": {},
   "source": [
    "ANS = Min-Max scaling is a technique used to scale numerical features to a specific range, usually between 0 and 1. It works by subtracting the minimum value from each observation and then dividing by the range of the feature. For example, if we have a feature with values ranging from 10 to 100, Min-Max scaling would transform these values to the range [0, 1]."
   ]
  },
  {
   "cell_type": "markdown",
   "metadata": {},
   "source": [
    "Q2. What is the Unit Vector technique in feature scaling, and how does it differ from Min-Max scaling? \n",
    "Provide an example to illustrate its application."
   ]
  },
  {
   "cell_type": "markdown",
   "metadata": {},
   "source": [
    "ANS = The Unit Vector technique in feature scaling scales each feature vector to have a unit norm (length). It differs from Min-Max scaling in that it normalizes the feature vectors based on their magnitudes rather than their ranges. For example, if we have a feature vector [3, 4], the Unit Vector technique would transform it to [0.6, 0.8] by dividing each element by the Euclidean norm of the vector."
   ]
  },
  {
   "cell_type": "markdown",
   "metadata": {},
   "source": [
    "Q3. What is PCA (Principle Component Analysis), and how is it used in dimensionality reduction? Provide an \n",
    "example to illustrate its application"
   ]
  },
  {
   "cell_type": "markdown",
   "metadata": {},
   "source": [
    "ANS = PCA (Principal Component Analysis) is a dimensionality reduction technique used to transform high-dimensional data into a lower-dimensional representation while preserving most of the original variance. It does this by identifying the principal components, which are orthogonal vectors that capture the maximum variance in the data. For example, in a dataset with features representing different physical measurements, PCA can help identify underlying patterns and reduce the dimensionality by combining correlated features into principal components."
   ]
  },
  {
   "cell_type": "markdown",
   "metadata": {},
   "source": [
    "Q4. What is the relationship between PCA and Feature Extraction, and how can PCA be used for Feature \n",
    "Extraction? Provide an example to illustrate this concept"
   ]
  },
  {
   "cell_type": "markdown",
   "metadata": {},
   "source": [
    "ANS =  PCA and Feature Extraction are closely related concepts. PCA can be used for Feature Extraction by identifying the principal components that explain the most variance in the data. These principal components serve as new features that are linear combinations of the original features. For example, if we have features representing different aspects of a person's health (e.g., blood pressure, cholesterol levels), PCA can identify the most informative combinations of these features to create new features that capture the most variance in the data.\n",
    "\n"
   ]
  },
  {
   "cell_type": "markdown",
   "metadata": {},
   "source": [
    "Q5. You are working on a project to build a recommendation system for a food delivery service. The dataset \n",
    "contains features such as price, rating, and delivery time. Explain how you would use Min-Max scaling to \n",
    "preprocess the data"
   ]
  },
  {
   "cell_type": "markdown",
   "metadata": {},
   "source": [
    "ANS = In preprocessing the data for the food delivery recommendation system, Min-Max scaling would be applied to features like price, rating, and delivery time. Each feature would be scaled independently to the range [0, 1], ensuring that they contribute equally to the analysis regardless of their original scales."
   ]
  },
  {
   "cell_type": "markdown",
   "metadata": {},
   "source": [
    "Q6. You are working on a project to build a model to predict stock prices. The dataset contains many \n",
    "features, such as company financial data and market trends. Explain how you would use PCA to reduce the \n",
    "dimensionality of the dataset"
   ]
  },
  {
   "cell_type": "markdown",
   "metadata": {},
   "source": [
    "ANS = In reducing the dimensionality of the stock price prediction dataset using PCA, we would first standardize the features to have zero mean and unit variance. Then, PCA would be applied to identify the principal components capturing the most variance in the dataset. By selecting a smaller number of principal components, we can reduce the dimensionality of the dataset while retaining most of the original information."
   ]
  },
  {
   "cell_type": "markdown",
   "metadata": {},
   "source": [
    "Q7. For a dataset containing the following values: [1, 5, 10, 15, 20], perform Min-Max scaling to transform the \n",
    "values to a range of -1 to 1."
   ]
  },
  {
   "cell_type": "markdown",
   "metadata": {},
   "source": [
    "To perform Min-Max scaling on the dataset [1, 5, 10, 15, 20] to a range of -1 to 1, we would first calculate the minimum and maximum values, which are 1 and 20, respectively. Then, for each value x in the dataset, the scaled value would be calculated as \n",
    "\n",
    "2*(X-MIN/MAX-MIN)-1\n"
   ]
  },
  {
   "cell_type": "markdown",
   "metadata": {},
   "source": [
    "Q8. For a dataset containing the following features: [height, weight, age, gender, blood pressure], perform \n",
    "Feature Extraction using PCA. How many principal components would you choose to retain, and why?"
   ]
  },
  {
   "cell_type": "markdown",
   "metadata": {},
   "source": [
    "ANS = In performing Feature Extraction using PCA on the dataset containing features like height, weight, age, gender, and blood pressure, the number of principal components to retain would depend on the desired level of explained variance and the trade-off between dimensionality reduction and information loss. A common approach is to choose the number of principal components that explain a significant portion (e.g., 95%) of the total variance in the data.\n",
    "\n",
    "\n",
    "\n",
    "\n",
    "\n"
   ]
  }
 ],
 "metadata": {
  "language_info": {
   "name": "python"
  }
 },
 "nbformat": 4,
 "nbformat_minor": 2
}
